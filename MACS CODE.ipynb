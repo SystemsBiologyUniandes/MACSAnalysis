{
 "cells": [
  {
   "cell_type": "code",
   "execution_count": 1,
   "metadata": {
    "collapsed": true
   },
   "outputs": [],
   "source": [
    "%matplotlib inline\n",
    "import cv2\n",
    "from matplotlib import pyplot as plt\n",
    "import os \n",
    "from glob import glob \n",
    "import numpy as np "
   ]
  },
  {
   "cell_type": "code",
   "execution_count": 2,
   "metadata": {
    "collapsed": true
   },
   "outputs": [],
   "source": [
    "kernel = np.array([[-1,-1,-1,-1,-1],\n",
    "                                 [-1,2,2,2,-1],\n",
    "                                 [-1,2,8,2,-1],\n",
    "                                 [-1,2,2,2,-1],\n",
    "                                 [-1,-1,-1,-1,-1]]) / 8.0\n",
    "\n",
    "timebetweenframes = 30\n",
    "#Parameters#\n",
    "s = 1 # Scaling factor tif\n",
    "jpegmax = 255 # max value for jpeg masks"
   ]
  },
  {
   "cell_type": "code",
   "execution_count": 3,
   "metadata": {
    "collapsed": false,
    "scrolled": false
   },
   "outputs": [
    {
     "name": "stdout",
     "output_type": "stream",
     "text": [
      "3 RFP images found\n",
      "0 GFP images found\n"
     ]
    }
   ],
   "source": [
    "files_tifrfp = []\n",
    "files_tifgfp = []\n",
    "\n",
    "\n",
    "tif_dirrfp = './rfp' \n",
    "tif_dirgfp = './gfp' \n",
    "pattern_tif = \"*.tif\" \n",
    "correction_dir = './corrections'\n",
    "\n",
    "for dir,_,_ in os.walk(tif_dirrfp):\n",
    "    files_tifrfp.extend(glob(os.path.join(dir,pattern_tif)))\n",
    "\n",
    "for dir,_,_ in os.walk(tif_dirgfp):\n",
    "    files_tifgfp.extend(glob(os.path.join(dir,pattern_tif)))\n",
    "\n",
    "\n",
    "files_tifrfp.sort()\n",
    "\n",
    "files_tifgfp.sort()\n",
    "\n",
    "\n",
    "\n",
    "if len(files_tifgfp) == 0:\n",
    "    GFPimages = False\n",
    "else: \n",
    "    GFPimages = True\n",
    "    \n",
    "\n",
    "\n",
    "print(str(len(files_tifrfp)) + ' RFP images found')\n",
    "print(str(len(files_tifgfp)) + ' GFP images found')"
   ]
  },
  {
   "cell_type": "code",
   "execution_count": 4,
   "metadata": {
    "collapsed": false,
    "scrolled": true
   },
   "outputs": [
    {
     "name": "stdout",
     "output_type": "stream",
     "text": [
      "Image 0 done\n",
      "Image 1 done\n",
      "Image 2 done\n"
     ]
    }
   ],
   "source": [
    "AVG_Dark   = cv2.imread('./corrections/AVG_Dark.tif',2 | 4)\n",
    "AVG_TotalGREEN = cv2.imread('./corrections/AVG_TotalGreen.tif',2 | 4)\n",
    "AVG_TotalRED = cv2.imread('./corrections/AVG_TotalRED.tif',2 | 4)\n",
    "\n",
    "\n",
    "if not os.path.exists('./correctedrfptif/'):\n",
    "    os.makedirs('./correctedrfptif/')\n",
    "if not os.path.exists('./jpegformask/'):\n",
    "    os.makedirs('./jpegformask/')\n",
    "if (GFPimages):\n",
    "    if not os.path.exists('./correctedgfptif/'):\n",
    "        os.makedirs('./correctedgfptif/')\n",
    "            \n",
    "#------------------------------------------------- \n",
    "for i in range(0,len(files_tifrfp)):\n",
    "    file = files_tifrfp[i]\n",
    "    img = cv2.imread(file, 2 | 4)\n",
    "    correctedimg = np.zeros_like(img)\n",
    "    correctedimgjpg = np.zeros_like(img)\n",
    "        \n",
    "    # Applying FFC to RFP Images\n",
    "    maxi = np.mean(AVG_TotalRED)\n",
    "    for l in range (len(img)):\n",
    "        for m in range (len(img[0])):\n",
    "            if (img[l][m] > AVG_Dark[l][m]):\n",
    "                tmp = maxi * (img[l][m] - AVG_Dark[l][m]) / (AVG_TotalRED[l][m])\n",
    "                correctedimg[l][m]= s*tmp \n",
    "        \n",
    "    c = np.max(correctedimg)\n",
    "    background = 2 * np.mean(correctedimg)\n",
    "    maxthreshold = 0.5 * c \n",
    "    for l in range (len(img)):\n",
    "        for m in range (len(img[0])):\n",
    "            if(0.5 * c > maxthreshold): \n",
    "                if(correctedimg[l][m] > maxthreshold):\n",
    "                    correctedimgjpg[l][m] = jpegmax\n",
    "                elif(correctedimg[l][m] < background): \n",
    "                    correctedimgjpg[l][m] = 0\n",
    "                else:\n",
    "                    correctedimgjpg[l][m] = jpegmax * ((correctedimg[l][m] - background) / (maxthreshold-background))   \n",
    "            else:                \n",
    "                if(correctedimg[l][m] > 0.5*c):\n",
    "                    correctedimgjpg[l][m]=jpegmax\n",
    "                elif(correctedimg[l][m] < background):    \n",
    "                    correctedimgjpg[l][m]=0\n",
    "                else:\n",
    "                    correctedimgjpg[l][m]=jpegmax * ((correctedimg[l][m]-background) / (0.5*c-background))    \n",
    "    cv2.imwrite(\"./correctedrfptif/\"  + '/' + str(10000 + i) + \".tif\", correctedimg)\n",
    "    cv2.imwrite(\"./jpegformask/\"  + '/'+str(10000 + i) + \".jpg\", correctedimgjpg)\n",
    "            \n",
    "    if (GFPimages):\n",
    "        for i in range(0,len(files_tifgfp)):\n",
    "            if (int((i * 100) / len(files_tifgfp)) % 5 == 0):\n",
    "                print(str(int(((i * 100) / len(files_tifgfp)))) + \"% GFP DONE\",end=',')\n",
    "            file = files_tifgfp[i]\n",
    "            img2 = cv2.imread(file,2 | 4)\n",
    "            correctedimg = np.zeros_like(img2)\n",
    "            correctedimgjpg = np.zeros_like(img2)\n",
    "            maxim=np.max(AVG_TotalGREEN)\n",
    "            for l in range (len(img2)):\n",
    "                for m in range (len(img2[0])):\n",
    "                    if (img2[l][m] > AVG_Dark[l][m]):\n",
    "                        tmp=maxim * (img2[l][m] - AVG_Dark[l][m]) / (AVG_TotalGREEN[l][m])\n",
    "                        correctedimg[l][m]=1 * tmp\n",
    "            cv2.imwrite(\"./correctedgfptif/\"  + '/' + str(10000+i) + \".tif\", correctedimg)\n",
    "    print('Image '+ str(i) + ' done') "
   ]
  },
  {
   "cell_type": "code",
   "execution_count": 5,
   "metadata": {
    "collapsed": false,
    "scrolled": true
   },
   "outputs": [
    {
     "name": "stdout",
     "output_type": "stream",
     "text": [
      "3 images for segmentation found.\n",
      "3 RFP images found.\n",
      "0 GFP images found.\n"
     ]
    }
   ],
   "source": [
    "mask_dir = './jpegformask'\n",
    "red_dir = './correctedrfptif'\n",
    "green_dir = './correctedgfptif'\n",
    "\n",
    "files_mask = [] \n",
    "pattern_mask   = \"*.jpg\"\n",
    "\n",
    "files_red = [] \n",
    "pattern_red   = \"*.tif\"\n",
    "\n",
    "files_green = [] \n",
    "pattern_green   = \"*.tif\"\n",
    "\n",
    "\n",
    "for dir,_,_ in os.walk(mask_dir):\n",
    "    files_mask.extend(glob(os.path.join(dir,pattern_mask)))\n",
    "\n",
    "for dir,_,_ in os.walk(red_dir):\n",
    "    files_red.extend(glob(os.path.join(dir,pattern_red)))\n",
    "    \n",
    "for dir,_,_ in os.walk(green_dir):\n",
    "    files_green.extend(glob(os.path.join(dir,pattern_green)))\n",
    "    \n",
    "position_names =  [x[1] for x in os.walk(red_dir)][0]\n",
    "\n",
    "files_mask.sort()\n",
    "files_red.sort()\n",
    "files_green.sort()\n",
    "\n",
    "\n",
    "\n",
    "\n",
    "print(str(len(files_mask)) + ' images for segmentation found.')\n",
    "print(str(len(files_red)) + ' RFP images found.')\n",
    "print(str(len(files_green)) + ' GFP images found.')"
   ]
  },
  {
   "cell_type": "code",
   "execution_count": 6,
   "metadata": {
    "collapsed": true
   },
   "outputs": [],
   "source": [
    "camerapsize = 6.45\n",
    "binning = 2\n",
    "cMount = 0.7\n",
    "objMag = 100\n",
    "lensMag = 1\n",
    "pixelsize = camerapsize*binning/(cMount*objMag*lensMag)\n",
    "threshold = 190"
   ]
  },
  {
   "cell_type": "code",
   "execution_count": 7,
   "metadata": {
    "collapsed": false
   },
   "outputs": [
    {
     "name": "stdout",
     "output_type": "stream",
     "text": [
      "Image 0 done\n",
      "Image 1 done\n",
      "Image 2 done\n"
     ]
    }
   ],
   "source": [
    "fulllen = []\n",
    "fullwid = []\n",
    "fullasp = []\n",
    "fullare = []\n",
    "fullintR = []\n",
    "fulltime = []\n",
    "if(GFPimages):\n",
    "    fullintG = []\n",
    "    allmeanG = []\n",
    "    allintG = []\n",
    "    allcvG = []\n",
    "imcontours = []\n",
    "for i in range(0,len(files_red)):   \n",
    "\n",
    "    img = cv2.imread(files_mask[i], 1)\n",
    "    img3 = cv2.imread(files_red[i], 2 | 4)\n",
    "    intR = []\n",
    "    if(GFPimages):\n",
    "        img2 = cv2.imread(files_green[i], 2 | 4)\n",
    "        intG = [] \n",
    "    equ = cv2.filter2D(img, -1, kernel)\n",
    "    gray = cv2.cvtColor(equ,cv2.COLOR_BGR2GRAY)\n",
    "    ret,thresh = cv2.threshold(gray,threshold,255,0)\n",
    "    im2, contours, hierarchy = cv2.findContours(thresh,cv2.RETR_TREE,cv2.CHAIN_APPROX_NONE)\n",
    "\n",
    "    length = []\n",
    "    wid = []\n",
    "    asp = []\n",
    "    are = []\n",
    "    intR = []\n",
    "    time = []\n",
    "    \n",
    "    for cnt in range(len(contours)):\n",
    "        listintR = []\n",
    "        if(GFPimages):\n",
    "            listintG = []\n",
    "        aimg = np.zeros_like(img)\n",
    "        cv2.drawContours(aimg, contours, cnt, (0,0,255), thickness= -1)\n",
    "        pts = np.where(aimg != 0)\n",
    "        listintR.append(img3[pts[0], pts[1]])                \n",
    "        r = 0\n",
    "        r = np.mean(listintR[0])\n",
    "        intR.append(r)\n",
    "        \n",
    "        if(GFPimages):\n",
    "            pts = np.where(aimg != 0)\n",
    "            listintG.append(img2[pts[0], pts[1]])                \n",
    "            G = 0\n",
    "            G = np.mean(listintG[0])\n",
    "            intG.append(G)            \n",
    "   \n",
    "        x,y,w,h = cv2.boundingRect(contours[cnt]) \n",
    "        area = cv2.contourArea(contours[cnt])\n",
    "        length.append(h * pixelsize)\n",
    "        wid.append(w * pixelsize)\n",
    "        asp.append(w / h)\n",
    "        are.append(area * pixelsize ** 2)\n",
    "        intR.append(r)\n",
    "        time.append(i)\n",
    "\n",
    "    if(GFPimages):\n",
    "        fullintG.append(intG)\n",
    "    fulllen.append(length)\n",
    "    fullwid.append(wid)\n",
    "    fullasp.append(asp)\n",
    "    fullare.append(are)\n",
    "    fullintR.append(intR)\n",
    "    fulltime.append(time)\n",
    "    imcontours.append(contours)\n",
    "    \n",
    "    print('Image ' + str(i)+ ' done')"
   ]
  },
  {
   "cell_type": "code",
   "execution_count": 8,
   "metadata": {
    "collapsed": false
   },
   "outputs": [],
   "source": [
    "f = open('AllCellData.csv', 'w')\n",
    "f.close()\n",
    "f = open('AllCellData.csv', 'w')\n",
    "if (GFPimages):\n",
    "    f.write('Frame,Time(min),Length(um),Area(um**2),Width(um),L/W,MeanRFP,MeanGFP\\n')\n",
    "    for j in range(len(fulllen)): #frame\n",
    "        for i in range(len(fulllen[j])): #cell\n",
    "            f.write(str(j ) + ',' + str(j*timebetweenframes) \\\n",
    "                        + ',' + str(fulllen[j][i]) + ',' + str(fullare[j][i]) + ',' + str(fullwid[j][i]) \\\n",
    "                        + ',' + str(fullasp[j][i]) + ',' + str(fullintR[j][i]) + ',' + str(fullintG[j][i])+'\\n')\n",
    "else:\n",
    "    f.write('Frame,Time(min),Length(um),Area(um**2),Width(um),L/W,MeanRFP\\n')\n",
    "\n",
    "    for j in range(len(fulllen)): #frame\n",
    "        for i in range(len(fulllen[j])): #cell\n",
    "            f.write(str(j) + ',' + str(j*timebetweenframes) \\\n",
    "                        + ',' + str(fulllen[j][i]) + ',' + str(fullare[j][i]) + ',' + str(fullwid[j][i]) \\\n",
    "                        + ',' + str(fullasp[j][i]) + ',' + str(fullintR[j][i]) + '\\n')\n",
    "f.close()"
   ]
  },
  {
   "cell_type": "code",
   "execution_count": 9,
   "metadata": {
    "collapsed": false
   },
   "outputs": [],
   "source": [
    "# This Function shows the segmentation done for any frame and whether to see only the segmentation or the segmentation over the image\n",
    "\n",
    "def showsegmentation(framenumber, onlysegmentation = False):\n",
    "    if onlysegmentation == False:\n",
    "        img = cv2.imread(files_red[framenumber], 2 | 4)\n",
    "        fig, ax = plt.subplots(1, 1, figsize=(20, 20))\n",
    "        cv2.drawContours(img, imcontours[framenumber], -1, (0,255,0),1)\n",
    "        ax.imshow(img)\n",
    "    elif onlysegmentation == True: \n",
    "        img = cv2.imread(files_red[framenumber],1)\n",
    "        fig, ax = plt.subplots(1, 1, figsize=(20, 20))\n",
    "        cv2.drawContours(img, imcontours[framenumber], -1, (0,255,0),1)\n",
    "        ax.imshow(img)"
   ]
  },
  {
   "cell_type": "code",
   "execution_count": 10,
   "metadata": {
    "collapsed": false,
    "scrolled": true
   },
   "outputs": [
    {
     "data": {
      "image/png": "[encoded data removed]",
      "text/plain": [
       "<matplotlib.figure.Figure at 0x10eaab3c8>"
      ]
     },
     "metadata": {},
     "output_type": "display_data"
    }
   ],
   "source": [
    "showsegmentation(1,onlysegmentation= True)"
   ]
  },
  {
   "cell_type": "markdown",
   "metadata": {},
   "source": [
    "# Data Analysis"
   ]
  },
  {
   "cell_type": "code",
   "execution_count": 11,
   "metadata": {
    "collapsed": true
   },
   "outputs": [],
   "source": [
    "import pandas as pd\n",
    "import seaborn as sns"
   ]
  },
  {
   "cell_type": "code",
   "execution_count": 12,
   "metadata": {
    "collapsed": false
   },
   "outputs": [],
   "source": [
    "df = pd.read_csv('AllCellData.csv')"
   ]
  },
  {
   "cell_type": "code",
   "execution_count": 13,
   "metadata": {
    "collapsed": false
   },
   "outputs": [
    {
     "data": {
      "text/html": [
       "<div>\n",
       "<table border=\"1\" class=\"dataframe\">\n",
       "  <thead>\n",
       "    <tr style=\"text-align: right;\">\n",
       "      <th></th>\n",
       "      <th>Frame</th>\n",
       "      <th>Time(min)</th>\n",
       "      <th>Length(um)</th>\n",
       "      <th>Area(um**2)</th>\n",
       "      <th>Width(um)</th>\n",
       "      <th>L/W</th>\n",
       "      <th>MeanRFP</th>\n",
       "    </tr>\n",
       "  </thead>\n",
       "  <tbody>\n",
       "    <tr>\n",
       "      <th>0</th>\n",
       "      <td>0</td>\n",
       "      <td>0</td>\n",
       "      <td>0.552857</td>\n",
       "      <td>0.356593</td>\n",
       "      <td>1.474286</td>\n",
       "      <td>2.666667</td>\n",
       "      <td>134.263158</td>\n",
       "    </tr>\n",
       "    <tr>\n",
       "      <th>1</th>\n",
       "      <td>0</td>\n",
       "      <td>0</td>\n",
       "      <td>1.474286</td>\n",
       "      <td>1.630139</td>\n",
       "      <td>3.132857</td>\n",
       "      <td>2.125000</td>\n",
       "      <td>134.263158</td>\n",
       "    </tr>\n",
       "    <tr>\n",
       "      <th>2</th>\n",
       "      <td>0</td>\n",
       "      <td>0</td>\n",
       "      <td>3.685714</td>\n",
       "      <td>4.380998</td>\n",
       "      <td>4.238571</td>\n",
       "      <td>1.150000</td>\n",
       "      <td>131.579710</td>\n",
       "    </tr>\n",
       "    <tr>\n",
       "      <th>3</th>\n",
       "      <td>0</td>\n",
       "      <td>0</td>\n",
       "      <td>0.184286</td>\n",
       "      <td>0.000000</td>\n",
       "      <td>0.184286</td>\n",
       "      <td>1.000000</td>\n",
       "      <td>131.579710</td>\n",
       "    </tr>\n",
       "    <tr>\n",
       "      <th>4</th>\n",
       "      <td>0</td>\n",
       "      <td>0</td>\n",
       "      <td>4.422857</td>\n",
       "      <td>7.895985</td>\n",
       "      <td>8.292857</td>\n",
       "      <td>1.875000</td>\n",
       "      <td>130.715190</td>\n",
       "    </tr>\n",
       "  </tbody>\n",
       "</table>\n",
       "</div>"
      ],
      "text/plain": [
       "   Frame  Time(min)  Length(um)  Area(um**2)  Width(um)       L/W     MeanRFP\n",
       "0      0          0    0.552857     0.356593   1.474286  2.666667  134.263158\n",
       "1      0          0    1.474286     1.630139   3.132857  2.125000  134.263158\n",
       "2      0          0    3.685714     4.380998   4.238571  1.150000  131.579710\n",
       "3      0          0    0.184286     0.000000   0.184286  1.000000  131.579710\n",
       "4      0          0    4.422857     7.895985   8.292857  1.875000  130.715190"
      ]
     },
     "execution_count": 13,
     "metadata": {},
     "output_type": "execute_result"
    }
   ],
   "source": [
    "df.head(n=5)"
   ]
  },
  {
   "cell_type": "code",
   "execution_count": 14,
   "metadata": {
    "collapsed": false
   },
   "outputs": [
    {
     "data": {
      "text/plain": [
       "<seaborn.axisgrid.JointGrid at 0x11962b2b0>"
      ]
     },
     "execution_count": 14,
     "metadata": {},
     "output_type": "execute_result"
    },
    {
     "data": {
      "image/png": "[encoded data removed]",
      "text/plain": [
       "<matplotlib.figure.Figure at 0x11962b278>"
      ]
     },
     "metadata": {},
     "output_type": "display_data"
    }
   ],
   "source": [
    "sns.jointplot(x = 'Length(um)', y = 'MeanRFP', data = df.loc[(df.Frame == 0)])"
   ]
  },
  {
   "cell_type": "code",
   "execution_count": 15,
   "metadata": {
    "collapsed": false
   },
   "outputs": [
    {
     "data": {
      "text/plain": [
       "<seaborn.axisgrid.JointGrid at 0x1196d8240>"
      ]
     },
     "execution_count": 15,
     "metadata": {},
     "output_type": "execute_result"
    },
    {
     "data": {
      "image/png": "[encoded data removed]",
      "text/plain": [
       "<matplotlib.figure.Figure at 0x11962b9b0>"
      ]
     },
     "metadata": {},
     "output_type": "display_data"
    }
   ],
   "source": [
    "sns.jointplot(x = 'Length(um)', y = 'MeanRFP', data = df.loc[(df.Frame == 1)])"
   ]
  },
  {
   "cell_type": "code",
   "execution_count": 16,
   "metadata": {
    "collapsed": false
   },
   "outputs": [
    {
     "data": {
      "text/plain": [
       "<seaborn.axisgrid.JointGrid at 0x119be0550>"
      ]
     },
     "execution_count": 16,
     "metadata": {},
     "output_type": "execute_result"
    },
    {
     "data": {
      "image/png": "[encoded data removed]",
      "text/plain": [
       "<matplotlib.figure.Figure at 0x119be0390>"
      ]
     },
     "metadata": {},
     "output_type": "display_data"
    }
   ],
   "source": [
    "sns.jointplot(x = 'Length(um)', y = 'MeanRFP', data = df.loc[(df.Frame == 2)])"
   ]
  },
  {
   "cell_type": "code",
   "execution_count": null,
   "metadata": {
    "collapsed": true
   },
   "outputs": [],
   "source": []
  }
 ],
 "metadata": {
  "kernelspec": {
   "display_name": "Python 3",
   "language": "python",
   "name": "python3"
  },
  "language_info": {
   "codemirror_mode": {
    "name": "ipython",
    "version": 3
   },
   "file_extension": ".py",
   "mimetype": "text/x-python",
   "name": "python",
   "nbconvert_exporter": "python",
   "pygments_lexer": "ipython3",
   "version": "3.5.2"
  }
 },
 "nbformat": 4,
 "nbformat_minor": 0
}
